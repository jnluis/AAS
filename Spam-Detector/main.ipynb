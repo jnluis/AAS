{
 "cells": [
  {
   "cell_type": "markdown",
   "metadata": {},
   "source": [
    "# AAS SPAM Detector\n",
    "\n",
    "The objective is to develop a SPAM classifier capable of reaching at least 70% accuracy. You can, and should, use all that was presented in the theoretical notebooks.\n",
    "\n",
    "The dataset is different from the toy one used in the class, instead the work will be done on the Enron SPAM dataset. The Enron-Spam dataset is a fantastic ressource collected by V. Metsis, I. Androutsopoulos and G. Paliouras and described in their publication [\"Spam Filtering with Naive Bayes - Which Naive Bayes?\"](https://nes.aueb.gr/ipl/nlp/pubs/ceas2006_paper.pdf). The dataset contains a total of 17.171 spam and 16.545 non-spam (\"ham\") e-mail messages (33.716 e-mails total). The original dataset and documentation can be found [here](http://www2.aueb.gr/users/ion/data/enron-spam/readme.txt)."
   ]
  },
  {
   "cell_type": "code",
   "execution_count": 1,
   "metadata": {},
   "outputs": [],
   "source": [
    "import polars as pl"
   ]
  },
  {
   "cell_type": "code",
   "execution_count": 2,
   "metadata": {},
   "outputs": [],
   "source": [
    "df = pl.read_csv('datasets/enron_spam_data.csv.gz')"
   ]
  },
  {
   "cell_type": "code",
   "execution_count": 3,
   "metadata": {},
   "outputs": [
    {
     "data": {
      "text/plain": [
       "<bound method DataFrame.describe of shape: (42_619, 2)\n",
       "┌─────────────────────────────────┬─────────┐\n",
       "│ text                            ┆ is_spam │\n",
       "│ ---                             ┆ ---     │\n",
       "│ str                             ┆ i64     │\n",
       "╞═════════════════════════════════╪═════════╡\n",
       "│ Re: New Sequences Window        ┆ 0       │\n",
       "│                                 ┆         │\n",
       "│     …                           ┆         │\n",
       "│ [zzzzteana] RE: Alexander       ┆ 0       │\n",
       "│                                 ┆         │\n",
       "│ Mar…                            ┆         │\n",
       "│ [zzzzteana] Moscow bomber       ┆ 0       │\n",
       "│                                 ┆         │\n",
       "│ Man…                            ┆         │\n",
       "│ [IRR] Klez: The Virus That  Wo… ┆ 0       │\n",
       "│ Re: [zzzzteana] Nothing like m… ┆ 0       │\n",
       "│ …                               ┆ …       │\n",
       "│ Какой у тебя любимый цвет? Фан… ┆ 1       │\n",
       "│ Что ты сегодня ел, Чудо-печень… ┆ 1       │\n",
       "│ Что ты думаешь о спорте? Секре… ┆ 1       │\n",
       "│ Какой твой любимый вид спорта,… ┆ 1       │\n",
       "│ Ты умеешь петь? Чудо-птица      ┆ 1       │\n",
       "└─────────────────────────────────┴─────────┘>"
      ]
     },
     "execution_count": 3,
     "metadata": {},
     "output_type": "execute_result"
    }
   ],
   "source": [
    "df.describe"
   ]
  }
 ],
 "metadata": {
  "kernelspec": {
   "display_name": "venv",
   "language": "python",
   "name": "python3"
  },
  "language_info": {
   "codemirror_mode": {
    "name": "ipython",
    "version": 3
   },
   "file_extension": ".py",
   "mimetype": "text/x-python",
   "name": "python",
   "nbconvert_exporter": "python",
   "pygments_lexer": "ipython3",
   "version": "3.10.12"
  }
 },
 "nbformat": 4,
 "nbformat_minor": 2
}
