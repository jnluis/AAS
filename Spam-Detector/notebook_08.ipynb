{
 "cells": [
  {
   "cell_type": "markdown",
   "metadata": {},
   "source": [
    "# SPAM or HAM"
   ]
  },
  {
   "cell_type": "code",
   "execution_count": 1,
   "metadata": {},
   "outputs": [
    {
     "name": "stderr",
     "output_type": "stream",
     "text": [
      "[nltk_data] Downloading package punkt to /home/ubuntu/nltk_data...\n",
      "[nltk_data]   Package punkt is already up-to-date!\n",
      "[nltk_data] Downloading package punkt_tab to /home/ubuntu/nltk_data...\n",
      "[nltk_data]   Package punkt_tab is already up-to-date!\n",
      "[nltk_data] Downloading package wordnet to /home/ubuntu/nltk_data...\n",
      "[nltk_data]   Package wordnet is already up-to-date!\n",
      "[nltk_data] Downloading package omw-1.4 to /home/ubuntu/nltk_data...\n",
      "[nltk_data]   Package omw-1.4 is already up-to-date!\n",
      "[nltk_data] Downloading package averaged_perceptron_tagger_eng to\n",
      "[nltk_data]     /home/ubuntu/nltk_data...\n",
      "[nltk_data]   Package averaged_perceptron_tagger_eng is already up-to-\n",
      "[nltk_data]       date!\n"
     ]
    },
    {
     "data": {
      "text/plain": [
       "True"
      ]
     },
     "execution_count": 1,
     "metadata": {},
     "output_type": "execute_result"
    }
   ],
   "source": [
    "import os\n",
    "import math\n",
    "import nltk\n",
    "import tqdm\n",
    "import joblib\n",
    "import numpy as np\n",
    "import pandas as pd\n",
    "import polars as pl\n",
    "import seaborn as sns\n",
    "\n",
    "%matplotlib inline\n",
    "import matplotlib.pyplot as plt\n",
    "plt.rcParams['figure.figsize'] = [15, 15]\n",
    "plt.rcParams['figure.dpi'] = 72\n",
    "import seaborn as sns\n",
    "import seaborn.objects as so\n",
    "from collections import Counter\n",
    "from wordcloud import WordCloud\n",
    "from nltk.stem import WordNetLemmatizer\n",
    "\n",
    "import gensim\n",
    "from gensim.models import FastText\n",
    "\n",
    "from sklearn.manifold import TSNE\n",
    "from sklearn.naive_bayes import GaussianNB\n",
    "from sklearn.neural_network import MLPClassifier\n",
    "from sklearn.neighbors import KNeighborsClassifier\n",
    "from sklearn.linear_model import LogisticRegression\n",
    "from sklearn.ensemble import RandomForestClassifier\n",
    "\n",
    "from sklearn.model_selection import train_test_split\n",
    "from sklearn.metrics import matthews_corrcoef, accuracy_score, f1_score\n",
    "\n",
    "nltk.download('punkt')\n",
    "nltk.download('punkt_tab')\n",
    "nltk.download('wordnet')\n",
    "nltk.download('omw-1.4')\n",
    "nltk.download('averaged_perceptron_tagger_eng')"
   ]
  },
  {
   "cell_type": "code",
   "execution_count": 2,
   "metadata": {},
   "outputs": [],
   "source": [
    "import warnings\n",
    "warnings.filterwarnings(\"ignore\", \"is_categorical_dtype\")\n",
    "warnings.filterwarnings(\"ignore\", \"use_inf_as_na\")"
   ]
  },
  {
   "cell_type": "code",
   "execution_count": 3,
   "metadata": {},
   "outputs": [],
   "source": [
    "def _nltk_pos_tagger(nltk_tag):\n",
    "    if nltk_tag.startswith('J'):\n",
    "        return nltk.corpus.wordnet.ADJ\n",
    "    elif nltk_tag.startswith('V'):\n",
    "        return nltk.corpus.wordnet.VERB\n",
    "    elif nltk_tag.startswith('N'):\n",
    "        return nltk.corpus.wordnet.NOUN\n",
    "    elif nltk_tag.startswith('R'):\n",
    "        return nltk.corpus.wordnet.ADV\n",
    "    else:          \n",
    "        return None\n",
    "\n",
    "\n",
    "def _nltk_pos_lemmatizer(lemmatizer, token, tag):\n",
    "    if tag is None:\n",
    "        return lemmatizer.lemmatize(token)\n",
    "    else:        \n",
    "        return lemmatizer.lemmatize(token, tag)\n",
    "\n",
    "\n",
    "def text_pre_processing(txt, m=2):\n",
    "    if txt is not None:\n",
    "        lemmatizer = WordNetLemmatizer()\n",
    "        stop_words = set(nltk.corpus.stopwords.words('english'))\n",
    "\n",
    "        tokens = nltk.word_tokenize(txt)\n",
    "        tokens = [w for w in tokens if w.isalpha()]\n",
    "        tokens = nltk.pos_tag(tokens)\n",
    "        tokens = [(t[0], _nltk_pos_tagger(t[1])) for t in tokens]\n",
    "        tokens = [_nltk_pos_lemmatizer(lemmatizer, w, t).lower() for w,t in tokens]\n",
    "        tokens = [w for w in tokens if len(w) > m]\n",
    "        tokens = [w for w in tokens if w not in stop_words]\n",
    "    else:\n",
    "        tokens = []\n",
    "    return tokens\n",
    "\n",
    "\n",
    "def div_norm(x):\n",
    "   norm_value = np.linalg.norm(x)\n",
    "   if norm_value > 0:\n",
    "       return x * ( 1.0 / norm_value)\n",
    "   else:\n",
    "       return x\n",
    "\n",
    "\n",
    "def word_vector_to_sentence_vector(sentence:list, model):\n",
    "    vectors = []\n",
    "    # for all the tokens in the setence\n",
    "    for token in sentence:\n",
    "        if token in model:\n",
    "            vectors.append(model[token])\n",
    "    # add the EOS token\n",
    "    if '\\n' in model:\n",
    "        vectors.append(model['\\n'])\n",
    "    # normalize all the vectors\n",
    "    vectors = [div_norm(x) for x in vectors]\n",
    "    return np.mean(vectors, axis=0)"
   ]
  },
  {
   "cell_type": "code",
   "execution_count": 5,
   "metadata": {},
   "outputs": [
    {
     "data": {
      "text/html": [
       "<div><style>\n",
       ".dataframe > thead > tr,\n",
       ".dataframe > tbody > tr {\n",
       "  text-align: right;\n",
       "  white-space: pre-wrap;\n",
       "}\n",
       "</style>\n",
       "<small>shape: (5_521, 2)</small><table border=\"1\" class=\"dataframe\"><thead><tr><th>Target</th><th>SMS</th></tr><tr><td>str</td><td>str</td></tr></thead><tbody><tr><td>&quot;ham&quot;</td><td>&quot;Go until jurong point, crazy..…</td></tr><tr><td>&quot;ham&quot;</td><td>&quot;Ok lar... Joking wif u oni...&quot;</td></tr><tr><td>&quot;spam&quot;</td><td>&quot;Free entry in 2 a wkly comp to…</td></tr><tr><td>&quot;ham&quot;</td><td>&quot;U dun say so early hor... U c …</td></tr><tr><td>&quot;ham&quot;</td><td>&quot;Nah I don&#x27;t think he goes to u…</td></tr><tr><td>&hellip;</td><td>&hellip;</td></tr><tr><td>&quot;spam&quot;</td><td>&quot;This is the 2nd time we have t…</td></tr><tr><td>&quot;ham&quot;</td><td>&quot;Will �_ b going to esplanade f…</td></tr><tr><td>&quot;ham&quot;</td><td>&quot;Pity, * was in mood for that. …</td></tr><tr><td>&quot;ham&quot;</td><td>&quot;The guy did some bitching but …</td></tr><tr><td>&quot;ham&quot;</td><td>&quot;Rofl. Its true to its name&quot;</td></tr></tbody></table></div>"
      ],
      "text/plain": [
       "shape: (5_521, 2)\n",
       "┌────────┬─────────────────────────────────┐\n",
       "│ Target ┆ SMS                             │\n",
       "│ ---    ┆ ---                             │\n",
       "│ str    ┆ str                             │\n",
       "╞════════╪═════════════════════════════════╡\n",
       "│ ham    ┆ Go until jurong point, crazy..… │\n",
       "│ ham    ┆ Ok lar... Joking wif u oni...   │\n",
       "│ spam   ┆ Free entry in 2 a wkly comp to… │\n",
       "│ ham    ┆ U dun say so early hor... U c … │\n",
       "│ ham    ┆ Nah I don't think he goes to u… │\n",
       "│ …      ┆ …                               │\n",
       "│ spam   ┆ This is the 2nd time we have t… │\n",
       "│ ham    ┆ Will �_ b going to esplanade f… │\n",
       "│ ham    ┆ Pity, * was in mood for that. … │\n",
       "│ ham    ┆ The guy did some bitching but … │\n",
       "│ ham    ┆ Rofl. Its true to its name      │\n",
       "└────────┴─────────────────────────────────┘"
      ]
     },
     "execution_count": 5,
     "metadata": {},
     "output_type": "execute_result"
    }
   ],
   "source": [
    "df = pl.read_csv('datasets/spam.csv')\n",
    "df = df.drop_nulls()\n",
    "df"
   ]
  },
  {
   "cell_type": "code",
   "execution_count": 6,
   "metadata": {},
   "outputs": [],
   "source": [
    "dataset = df.rows()\n",
    "dataset = [(text, label) for (label, text) in dataset]\n",
    "corpus =  [txt for txt, _ in dataset]\n",
    "targets = [label for _, label in dataset]"
   ]
  },
  {
   "cell_type": "code",
   "execution_count": 7,
   "metadata": {},
   "outputs": [],
   "source": [
    "tokens_clean = [text_pre_processing(text) for text in corpus]"
   ]
  },
  {
   "cell_type": "code",
   "execution_count": 8,
   "metadata": {},
   "outputs": [],
   "source": [
    "text_model = FastText(vector_size=128, window=7, min_count=5, workers=os.cpu_count(), seed=42)\n",
    "text_model.build_vocab(tokens_clean)"
   ]
  },
  {
   "cell_type": "code",
   "execution_count": 9,
   "metadata": {},
   "outputs": [],
   "source": [
    "def plot_top_similar(query_word, model, limit=10, color=['maroon', 'blue']):\n",
    "    embed_dim = model.wv.vectors.shape[1]\n",
    "    vectors = np.empty((0, embed_dim), dtype='f')\n",
    "    labels = [query_word]\n",
    "    types = ['Query Word']\n",
    "    \n",
    "    vectors = np.append(vectors, model.wv.__getitem__([query_word]), axis=0)\n",
    "    \n",
    "    similar_words = model.wv.most_similar(query_word, topn=limit)\n",
    "    for word, similarity in similar_words:\n",
    "        vector = model.wv.__getitem__([word])\n",
    "        labels.append(word)\n",
    "        types.append('Similar Words')\n",
    "        vectors = np.append(vectors, vector, axis=0)\n",
    "    \n",
    "    vectors = np.array(vectors)\n",
    "    vectors_tsne = TSNE(n_components=2, random_state=42, init='pca', perplexity=min(30, limit-1)).fit_transform(vectors)\n",
    "    vectors_tsne_df = pd.DataFrame({\n",
    "        'X': [x for x in vectors_tsne[:, 0]],\n",
    "        'Y': [y for y in vectors_tsne[:, 1]],\n",
    "        'label': labels,\n",
    "        'Type': types\n",
    "    })\n",
    "    _, ax = plt.subplots()\n",
    "    p = so.Plot(data=vectors_tsne_df, x='X', y='Y', text='label', color='Type').add(so.Dot(marker='o')).add(so.Text(halign='left')).label(legend=None)\n",
    "    p.on(ax).show()\n"
   ]
  },
  {
   "cell_type": "code",
   "execution_count": 10,
   "metadata": {},
   "outputs": [
    {
     "data": {
      "image/png": "[encoded data removed]",
      "text/plain": [
       "<Figure size 1080x1080 with 1 Axes>"
      ]
     },
     "metadata": {},
     "output_type": "display_data"
    }
   ],
   "source": [
    "plot_top_similar('spam', text_model)"
   ]
  },
  {
   "cell_type": "code",
   "execution_count": 11,
   "metadata": {},
   "outputs": [
    {
     "data": {
      "image/png": "[encoded data removed]",
      "text/plain": [
       "<Figure size 1080x1080 with 1 Axes>"
      ]
     },
     "metadata": {},
     "output_type": "display_data"
    }
   ],
   "source": [
    "plot_top_similar('you', text_model)"
   ]
  },
  {
   "cell_type": "code",
   "execution_count": 12,
   "metadata": {},
   "outputs": [
    {
     "name": "stderr",
     "output_type": "stream",
     "text": [
      "100%|██████████| 5521/5521 [00:02<00:00, 2739.00it/s]\n"
     ]
    }
   ],
   "source": [
    "X = np.array([word_vector_to_sentence_vector(sentence, text_model.wv) for sentence in tqdm.tqdm(tokens_clean)])"
   ]
  },
  {
   "cell_type": "code",
   "execution_count": 13,
   "metadata": {},
   "outputs": [],
   "source": [
    "X_train, X_test, y_train, y_test = train_test_split(X, targets, stratify=targets, test_size=0.2, random_state=42)"
   ]
  },
  {
   "cell_type": "code",
   "execution_count": 14,
   "metadata": {},
   "outputs": [
    {
     "name": "stdout",
     "output_type": "stream",
     "text": [
      "Training Data : 4416\n",
      "Testing Data  : 1105\n",
      "LR  0.90 0.87 0.45\n",
      "KNN 0.94 0.94 0.76\n",
      "NB  0.74 0.78 0.43\n",
      "RFC 0.93 0.92 0.69\n",
      "MLP 0.96 0.96 0.82\n"
     ]
    }
   ],
   "source": [
    "print(f'Training Data : {len(X_train)}')\n",
    "print(f'Testing Data  : {len(X_test)}')\n",
    "\n",
    "# define the list of classifiers\n",
    "clfs = [\n",
    "    ('LR', LogisticRegression(random_state=42, max_iter=600)),\n",
    "    ('KNN', KNeighborsClassifier(n_neighbors=1)),\n",
    "    ('NB', GaussianNB()),\n",
    "    ('RFC', RandomForestClassifier(random_state=42)),\n",
    "    ('MLP', MLPClassifier(random_state=42, learning_rate='adaptive', max_iter=1000))\n",
    "]\n",
    "\n",
    "# whenever possible used joblib to speed-up the training\n",
    "with joblib.parallel_backend('loky', n_jobs=-1):\n",
    "    for label, clf in clfs:\n",
    "        # train the model\n",
    "        clf.fit(X_train, y_train)\n",
    "\n",
    "        # generate predictions\n",
    "        predictions = clf.predict(X_test)\n",
    "\n",
    "        # compute the performance metrics\n",
    "        mcc = matthews_corrcoef(y_test, predictions)\n",
    "        acc = accuracy_score(y_test, predictions)\n",
    "        f1 = f1_score(y_test, predictions, average='weighted')\n",
    "        print(f'{label:3} {acc:.2f} {f1:.2f} {mcc:.2f}')"
   ]
  }
 ],
 "metadata": {
  "kernelspec": {
   "display_name": "venv",
   "language": "python",
   "name": "python3"
  },
  "language_info": {
   "codemirror_mode": {
    "name": "ipython",
    "version": 3
   },
   "file_extension": ".py",
   "mimetype": "text/x-python",
   "name": "python",
   "nbconvert_exporter": "python",
   "pygments_lexer": "ipython3",
   "version": "3.10.12"
  },
  "orig_nbformat": 4
 },
 "nbformat": 4,
 "nbformat_minor": 2
}
