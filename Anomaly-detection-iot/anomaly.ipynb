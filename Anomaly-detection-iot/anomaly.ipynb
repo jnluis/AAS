{
 "cells": [
  {
   "cell_type": "markdown",
   "metadata": {},
   "source": [
    "# Anomly detection for IoT \n",
    "\n",
    "Preprocessed dataset for network based intrusion detection system in Iot Devices. \n",
    "Ultrasonic Sensor with Arduino and NodeMCU used to monitor the network and collect the network logs. \n",
    "NodeMCU with ESP8266 wifi module was used to send data to the server via wifi.\n",
    "\n",
    "The normality column can have the following values:\n",
    "- 0 - Normal\n",
    "- 1 - Wrong Setup\n",
    "- 2 - DDOS\n",
    "- 3 - Data type probing\n",
    "- 4 - Scan Attack\n",
    "- 5 - Man in the middle\n",
    "\n",
    "For more detail, check [here](https://www.kaggle.com/datasets/speedwall10/iot-device-network-logs).\n"
   ]
  },
  {
   "cell_type": "code",
   "execution_count": 1,
   "metadata": {},
   "outputs": [],
   "source": [
    "%matplotlib inline\n",
    "import numpy as np\n",
    "import polars as pl\n",
    "import seaborn as sns\n",
    "import matplotlib.pyplot as plt\n",
    "plt.rcParams['figure.figsize'] = [20, 5]\n",
    "plt.rcParams[\"figure.autolayout\"] = True\n",
    "plt.rcParams.update({'font.size': 22})"
   ]
  },
  {
   "cell_type": "code",
   "execution_count": 2,
   "metadata": {},
   "outputs": [
    {
     "data": {
      "text/html": [
       "<div><style>\n",
       ".dataframe > thead > tr,\n",
       ".dataframe > tbody > tr {\n",
       "  text-align: right;\n",
       "  white-space: pre-wrap;\n",
       "}\n",
       "</style>\n",
       "<small>shape: (5, 14)</small><table border=\"1\" class=\"dataframe\"><thead><tr><th>frame.number</th><th>frame.time</th><th>frame.len</th><th>eth.src</th><th>eth.dst</th><th>ip.src</th><th>ip.dst</th><th>ip.proto</th><th>ip.len</th><th>tcp.len</th><th>tcp.srcport</th><th>tcp.dstport</th><th>Value</th><th>normality</th></tr><tr><td>i64</td><td>i64</td><td>i64</td><td>i64</td><td>i64</td><td>i64</td><td>i64</td><td>f64</td><td>f64</td><td>f64</td><td>f64</td><td>f64</td><td>f64</td><td>i64</td></tr></thead><tbody><tr><td>1</td><td>123722736684743</td><td>54</td><td>87971959760497</td><td>167275820076079</td><td>192168035</td><td>1921680121</td><td>6.0</td><td>40.0</td><td>0.0</td><td>49279.0</td><td>80.0</td><td>-99.0</td><td>0</td></tr><tr><td>2</td><td>123722736773147</td><td>62</td><td>87971959760497</td><td>167275820076079</td><td>192168035</td><td>1921680121</td><td>6.0</td><td>48.0</td><td>0.0</td><td>56521.0</td><td>80.0</td><td>-99.0</td><td>0</td></tr><tr><td>3</td><td>123722736824792</td><td>62</td><td>167275820076079</td><td>87971959760497</td><td>1921680121</td><td>192168035</td><td>6.0</td><td>48.0</td><td>0.0</td><td>80.0</td><td>56521.0</td><td>-99.0</td><td>0</td></tr><tr><td>4</td><td>123722736836228</td><td>54</td><td>167275820076079</td><td>87971959760497</td><td>1921680121</td><td>192168035</td><td>6.0</td><td>40.0</td><td>0.0</td><td>80.0</td><td>49279.0</td><td>-99.0</td><td>0</td></tr><tr><td>5</td><td>123722749684991</td><td>54</td><td>87971959760497</td><td>167275820076079</td><td>192168035</td><td>1921680121</td><td>6.0</td><td>40.0</td><td>0.0</td><td>56521.0</td><td>80.0</td><td>-99.0</td><td>0</td></tr></tbody></table></div>"
      ],
      "text/plain": [
       "shape: (5, 14)\n",
       "┌────────────┬────────────┬───────────┬────────────┬───┬───────────┬───────────┬───────┬───────────┐\n",
       "│ frame.numb ┆ frame.time ┆ frame.len ┆ eth.src    ┆ … ┆ tcp.srcpo ┆ tcp.dstpo ┆ Value ┆ normality │\n",
       "│ er         ┆ ---        ┆ ---       ┆ ---        ┆   ┆ rt        ┆ rt        ┆ ---   ┆ ---       │\n",
       "│ ---        ┆ i64        ┆ i64       ┆ i64        ┆   ┆ ---       ┆ ---       ┆ f64   ┆ i64       │\n",
       "│ i64        ┆            ┆           ┆            ┆   ┆ f64       ┆ f64       ┆       ┆           │\n",
       "╞════════════╪════════════╪═══════════╪════════════╪═══╪═══════════╪═══════════╪═══════╪═══════════╡\n",
       "│ 1          ┆ 1237227366 ┆ 54        ┆ 8797195976 ┆ … ┆ 49279.0   ┆ 80.0      ┆ -99.0 ┆ 0         │\n",
       "│            ┆ 84743      ┆           ┆ 0497       ┆   ┆           ┆           ┆       ┆           │\n",
       "│ 2          ┆ 1237227367 ┆ 62        ┆ 8797195976 ┆ … ┆ 56521.0   ┆ 80.0      ┆ -99.0 ┆ 0         │\n",
       "│            ┆ 73147      ┆           ┆ 0497       ┆   ┆           ┆           ┆       ┆           │\n",
       "│ 3          ┆ 1237227368 ┆ 62        ┆ 1672758200 ┆ … ┆ 80.0      ┆ 56521.0   ┆ -99.0 ┆ 0         │\n",
       "│            ┆ 24792      ┆           ┆ 76079      ┆   ┆           ┆           ┆       ┆           │\n",
       "│ 4          ┆ 1237227368 ┆ 54        ┆ 1672758200 ┆ … ┆ 80.0      ┆ 49279.0   ┆ -99.0 ┆ 0         │\n",
       "│            ┆ 36228      ┆           ┆ 76079      ┆   ┆           ┆           ┆       ┆           │\n",
       "│ 5          ┆ 1237227496 ┆ 54        ┆ 8797195976 ┆ … ┆ 56521.0   ┆ 80.0      ┆ -99.0 ┆ 0         │\n",
       "│            ┆ 84991      ┆           ┆ 0497       ┆   ┆           ┆           ┆       ┆           │\n",
       "└────────────┴────────────┴───────────┴────────────┴───┴───────────┴───────────┴───────┴───────────┘"
      ]
     },
     "execution_count": 2,
     "metadata": {},
     "output_type": "execute_result"
    }
   ],
   "source": [
    "df = pl.read_csv('dataset/IoT-DNL.csv.gz')\n",
    "#df = df.sample(int(df.shape[0]*0.2))\n",
    "df.head()"
   ]
  },
  {
   "cell_type": "code",
   "execution_count": 3,
   "metadata": {},
   "outputs": [
    {
     "data": {
      "text/html": [
       "<div><style>\n",
       ".dataframe > thead > tr,\n",
       ".dataframe > tbody > tr {\n",
       "  text-align: right;\n",
       "  white-space: pre-wrap;\n",
       "}\n",
       "</style>\n",
       "<small>shape: (9, 15)</small><table border=\"1\" class=\"dataframe\"><thead><tr><th>statistic</th><th>frame.number</th><th>frame.time</th><th>frame.len</th><th>eth.src</th><th>eth.dst</th><th>ip.src</th><th>ip.dst</th><th>ip.proto</th><th>ip.len</th><th>tcp.len</th><th>tcp.srcport</th><th>tcp.dstport</th><th>Value</th><th>normality</th></tr><tr><td>str</td><td>f64</td><td>f64</td><td>f64</td><td>f64</td><td>f64</td><td>f64</td><td>f64</td><td>f64</td><td>f64</td><td>f64</td><td>f64</td><td>f64</td><td>f64</td><td>f64</td></tr></thead><tbody><tr><td>&quot;count&quot;</td><td>477426.0</td><td>477426.0</td><td>477426.0</td><td>477426.0</td><td>477426.0</td><td>477426.0</td><td>477426.0</td><td>477426.0</td><td>477426.0</td><td>477426.0</td><td>477426.0</td><td>477426.0</td><td>477426.0</td><td>477426.0</td></tr><tr><td>&quot;null_count&quot;</td><td>0.0</td><td>0.0</td><td>0.0</td><td>0.0</td><td>0.0</td><td>0.0</td><td>0.0</td><td>0.0</td><td>0.0</td><td>0.0</td><td>0.0</td><td>0.0</td><td>0.0</td><td>0.0</td></tr><tr><td>&quot;mean&quot;</td><td>52917.357471</td><td>1.2566e14</td><td>120.658661</td><td>1.2941e14</td><td>1.6078e14</td><td>8.6227e8</td><td>1.2069e9</td><td>2.858263</td><td>97.2428</td><td>60.844678</td><td>23722.759349</td><td>4528.371894</td><td>0.564996</td><td>2.489808</td></tr><tr><td>&quot;std&quot;</td><td>32439.729155</td><td>2.0642e12</td><td>88.273425</td><td>4.4788e13</td><td>5.0725e13</td><td>2.0198e9</td><td>3.6758e9</td><td>3.284435</td><td>97.168551</td><td>87.68277</td><td>27906.683645</td><td>15426.452846</td><td>3188.911857</td><td>1.706533</td></tr><tr><td>&quot;min&quot;</td><td>1.0</td><td>1.2372e14</td><td>42.0</td><td>3.7560e13</td><td>1.1011e12</td><td>0.0</td><td>0.0</td><td>-1.0</td><td>0.0</td><td>0.0</td><td>0.0</td><td>0.0</td><td>-99.0</td><td>0.0</td></tr><tr><td>&quot;25%&quot;</td><td>27547.0</td><td>1.2434e14</td><td>42.0</td><td>8.7972e13</td><td>1.3991e14</td><td>0.0</td><td>0.0</td><td>-1.0</td><td>0.0</td><td>0.0</td><td>0.0</td><td>0.0</td><td>-5.0</td><td>1.0</td></tr><tr><td>&quot;50%&quot;</td><td>47329.0</td><td>1.2491e14</td><td>98.0</td><td>1.1043e14</td><td>1.6728e14</td><td>1.92168035e8</td><td>1.9217e9</td><td>6.0</td><td>84.0</td><td>0.0</td><td>0.0</td><td>0.0</td><td>-3.0</td><td>2.0</td></tr><tr><td>&quot;75%&quot;</td><td>78486.0</td><td>1.2565e14</td><td>176.0</td><td>1.6728e14</td><td>1.6728e14</td><td>1.9217e9</td><td>1.9217e9</td><td>6.0</td><td>162.0</td><td>110.0</td><td>55068.0</td><td>80.0</td><td>-2.0</td><td>4.0</td></tr><tr><td>&quot;max&quot;</td><td>125158.0</td><td>1.3051e14</td><td>3484.0</td><td>2.0707e14</td><td>2.8147e14</td><td>1.7222e11</td><td>2.5526e11</td><td>17.0</td><td>3470.0</td><td>3418.0</td><td>65534.0</td><td>65534.0</td><td>2.202219e6</td><td>5.0</td></tr></tbody></table></div>"
      ],
      "text/plain": [
       "shape: (9, 15)\n",
       "┌───────────┬───────────┬───────────┬───────────┬───┬───────────┬───────────┬───────────┬──────────┐\n",
       "│ statistic ┆ frame.num ┆ frame.tim ┆ frame.len ┆ … ┆ tcp.srcpo ┆ tcp.dstpo ┆ Value     ┆ normalit │\n",
       "│ ---       ┆ ber       ┆ e         ┆ ---       ┆   ┆ rt        ┆ rt        ┆ ---       ┆ y        │\n",
       "│ str       ┆ ---       ┆ ---       ┆ f64       ┆   ┆ ---       ┆ ---       ┆ f64       ┆ ---      │\n",
       "│           ┆ f64       ┆ f64       ┆           ┆   ┆ f64       ┆ f64       ┆           ┆ f64      │\n",
       "╞═══════════╪═══════════╪═══════════╪═══════════╪═══╪═══════════╪═══════════╪═══════════╪══════════╡\n",
       "│ count     ┆ 477426.0  ┆ 477426.0  ┆ 477426.0  ┆ … ┆ 477426.0  ┆ 477426.0  ┆ 477426.0  ┆ 477426.0 │\n",
       "│ null_coun ┆ 0.0       ┆ 0.0       ┆ 0.0       ┆ … ┆ 0.0       ┆ 0.0       ┆ 0.0       ┆ 0.0      │\n",
       "│ t         ┆           ┆           ┆           ┆   ┆           ┆           ┆           ┆          │\n",
       "│ mean      ┆ 52917.357 ┆ 1.2566e14 ┆ 120.65866 ┆ … ┆ 23722.759 ┆ 4528.3718 ┆ 0.564996  ┆ 2.489808 │\n",
       "│           ┆ 471       ┆           ┆ 1         ┆   ┆ 349       ┆ 94        ┆           ┆          │\n",
       "│ std       ┆ 32439.729 ┆ 2.0642e12 ┆ 88.273425 ┆ … ┆ 27906.683 ┆ 15426.452 ┆ 3188.9118 ┆ 1.706533 │\n",
       "│           ┆ 155       ┆           ┆           ┆   ┆ 645       ┆ 846       ┆ 57        ┆          │\n",
       "│ min       ┆ 1.0       ┆ 1.2372e14 ┆ 42.0      ┆ … ┆ 0.0       ┆ 0.0       ┆ -99.0     ┆ 0.0      │\n",
       "│ 25%       ┆ 27547.0   ┆ 1.2434e14 ┆ 42.0      ┆ … ┆ 0.0       ┆ 0.0       ┆ -5.0      ┆ 1.0      │\n",
       "│ 50%       ┆ 47329.0   ┆ 1.2491e14 ┆ 98.0      ┆ … ┆ 0.0       ┆ 0.0       ┆ -3.0      ┆ 2.0      │\n",
       "│ 75%       ┆ 78486.0   ┆ 1.2565e14 ┆ 176.0     ┆ … ┆ 55068.0   ┆ 80.0      ┆ -2.0      ┆ 4.0      │\n",
       "│ max       ┆ 125158.0  ┆ 1.3051e14 ┆ 3484.0    ┆ … ┆ 65534.0   ┆ 65534.0   ┆ 2.202219e ┆ 5.0      │\n",
       "│           ┆           ┆           ┆           ┆   ┆           ┆           ┆ 6         ┆          │\n",
       "└───────────┴───────────┴───────────┴───────────┴───┴───────────┴───────────┴───────────┴──────────┘"
      ]
     },
     "execution_count": 3,
     "metadata": {},
     "output_type": "execute_result"
    }
   ],
   "source": [
    "df.describe()"
   ]
  },
  {
   "cell_type": "code",
   "execution_count": 4,
   "metadata": {},
   "outputs": [],
   "source": [
    "df_malicious = df.filter(pl.col('normality') == 1)\n",
    "df_benign = df.filter(pl.col('normality') == 0)\n",
    "\n",
    "df_count = pl.DataFrame({'anomaly': ['Benign']})\n",
    "\n"
   ]
  },
  {
   "cell_type": "code",
   "execution_count": 5,
   "metadata": {},
   "outputs": [
    {
     "ename": "TypeError",
     "evalue": "'<=' not supported between instances of 'int' and 'str'",
     "output_type": "error",
     "traceback": [
      "\u001b[0;31m---------------------------------------------------------------------------\u001b[0m",
      "\u001b[0;31mTypeError\u001b[0m                                 Traceback (most recent call last)",
      "Cell \u001b[0;32mIn[5], line 1\u001b[0m\n\u001b[0;32m----> 1\u001b[0m x \u001b[38;5;241m=\u001b[39m \u001b[43mdf\u001b[49m\u001b[38;5;241;43m.\u001b[39;49m\u001b[43mdescribe\u001b[49m\u001b[43m(\u001b[49m\u001b[43m[\u001b[49m\u001b[38;5;124;43m'\u001b[39;49m\u001b[38;5;124;43mframe.number\u001b[39;49m\u001b[38;5;124;43m'\u001b[39;49m\u001b[43m,\u001b[49m\u001b[43m \u001b[49m\u001b[38;5;124;43m'\u001b[39;49m\u001b[38;5;124;43mframe.time\u001b[39;49m\u001b[38;5;124;43m'\u001b[39;49m\u001b[43m,\u001b[49m\u001b[43m \u001b[49m\u001b[38;5;124;43m'\u001b[39;49m\u001b[38;5;124;43meth.src\u001b[39;49m\u001b[38;5;124;43m'\u001b[39;49m\u001b[43m,\u001b[49m\u001b[38;5;124;43m'\u001b[39;49m\u001b[38;5;124;43mip.src\u001b[39;49m\u001b[38;5;124;43m'\u001b[39;49m\u001b[43m,\u001b[49m\u001b[38;5;124;43m'\u001b[39;49m\u001b[38;5;124;43mtcp.srcport\u001b[39;49m\u001b[38;5;124;43m'\u001b[39;49m\u001b[43m,\u001b[49m\u001b[38;5;124;43m'\u001b[39;49m\u001b[38;5;124;43mnormality\u001b[39;49m\u001b[38;5;124;43m'\u001b[39;49m\u001b[43m]\u001b[49m\u001b[43m)\u001b[49m\n\u001b[1;32m      2\u001b[0m y\u001b[38;5;241m=\u001b[39m df([\u001b[38;5;124m'\u001b[39m\u001b[38;5;124mnormality\u001b[39m\u001b[38;5;124m'\u001b[39m])\n",
      "File \u001b[0;32m~/Documents/Ano4/AAS-Aprendizagem_Aplicada_Seguranca/aas-anomaly-detection-iot-jnluis/venv/lib/python3.10/site-packages/polars/dataframe/frame.py:4983\u001b[0m, in \u001b[0;36mDataFrame.describe\u001b[0;34m(self, percentiles, interpolation)\u001b[0m\n\u001b[1;32m   4980\u001b[0m     msg \u001b[38;5;241m=\u001b[39m \u001b[38;5;124m\"\u001b[39m\u001b[38;5;124mcannot describe a DataFrame that has no columns\u001b[39m\u001b[38;5;124m\"\u001b[39m\n\u001b[1;32m   4981\u001b[0m     \u001b[38;5;28;01mraise\u001b[39;00m \u001b[38;5;167;01mTypeError\u001b[39;00m(msg)\n\u001b[0;32m-> 4983\u001b[0m \u001b[38;5;28;01mreturn\u001b[39;00m \u001b[38;5;28;43mself\u001b[39;49m\u001b[38;5;241;43m.\u001b[39;49m\u001b[43mlazy\u001b[49m\u001b[43m(\u001b[49m\u001b[43m)\u001b[49m\u001b[38;5;241;43m.\u001b[39;49m\u001b[43mdescribe\u001b[49m\u001b[43m(\u001b[49m\n\u001b[1;32m   4984\u001b[0m \u001b[43m    \u001b[49m\u001b[43mpercentiles\u001b[49m\u001b[38;5;241;43m=\u001b[39;49m\u001b[43mpercentiles\u001b[49m\u001b[43m,\u001b[49m\u001b[43m \u001b[49m\u001b[43minterpolation\u001b[49m\u001b[38;5;241;43m=\u001b[39;49m\u001b[43minterpolation\u001b[49m\n\u001b[1;32m   4985\u001b[0m \u001b[43m\u001b[49m\u001b[43m)\u001b[49m\n",
      "File \u001b[0;32m~/Documents/Ano4/AAS-Aprendizagem_Aplicada_Seguranca/aas-anomaly-detection-iot-jnluis/venv/lib/python3.10/site-packages/polars/lazyframe/frame.py:905\u001b[0m, in \u001b[0;36mLazyFrame.describe\u001b[0;34m(self, percentiles, interpolation)\u001b[0m\n\u001b[1;32m    903\u001b[0m \u001b[38;5;66;03m# create list of metrics\u001b[39;00m\n\u001b[1;32m    904\u001b[0m metrics \u001b[38;5;241m=\u001b[39m [\u001b[38;5;124m\"\u001b[39m\u001b[38;5;124mcount\u001b[39m\u001b[38;5;124m\"\u001b[39m, \u001b[38;5;124m\"\u001b[39m\u001b[38;5;124mnull_count\u001b[39m\u001b[38;5;124m\"\u001b[39m, \u001b[38;5;124m\"\u001b[39m\u001b[38;5;124mmean\u001b[39m\u001b[38;5;124m\"\u001b[39m, \u001b[38;5;124m\"\u001b[39m\u001b[38;5;124mstd\u001b[39m\u001b[38;5;124m\"\u001b[39m, \u001b[38;5;124m\"\u001b[39m\u001b[38;5;124mmin\u001b[39m\u001b[38;5;124m\"\u001b[39m]\n\u001b[0;32m--> 905\u001b[0m \u001b[38;5;28;01mif\u001b[39;00m quantiles \u001b[38;5;241m:=\u001b[39m \u001b[43mparse_percentiles\u001b[49m\u001b[43m(\u001b[49m\u001b[43mpercentiles\u001b[49m\u001b[43m)\u001b[49m:\n\u001b[1;32m    906\u001b[0m     metrics\u001b[38;5;241m.\u001b[39mextend(\u001b[38;5;124mf\u001b[39m\u001b[38;5;124m\"\u001b[39m\u001b[38;5;132;01m{\u001b[39;00mq\u001b[38;5;250m \u001b[39m\u001b[38;5;241m*\u001b[39m\u001b[38;5;250m \u001b[39m\u001b[38;5;241m100\u001b[39m\u001b[38;5;132;01m:\u001b[39;00m\u001b[38;5;124mg\u001b[39m\u001b[38;5;132;01m}\u001b[39;00m\u001b[38;5;124m%\u001b[39m\u001b[38;5;124m\"\u001b[39m \u001b[38;5;28;01mfor\u001b[39;00m q \u001b[38;5;129;01min\u001b[39;00m quantiles)\n\u001b[1;32m    907\u001b[0m metrics\u001b[38;5;241m.\u001b[39mappend(\u001b[38;5;124m\"\u001b[39m\u001b[38;5;124mmax\u001b[39m\u001b[38;5;124m\"\u001b[39m)\n",
      "File \u001b[0;32m~/Documents/Ano4/AAS-Aprendizagem_Aplicada_Seguranca/aas-anomaly-detection-iot-jnluis/venv/lib/python3.10/site-packages/polars/_utils/various.py:611\u001b[0m, in \u001b[0;36mparse_percentiles\u001b[0;34m(percentiles, inject_median)\u001b[0m\n\u001b[1;32m    609\u001b[0m \u001b[38;5;28;01melif\u001b[39;00m percentiles \u001b[38;5;129;01mis\u001b[39;00m \u001b[38;5;28;01mNone\u001b[39;00m:\n\u001b[1;32m    610\u001b[0m     percentiles \u001b[38;5;241m=\u001b[39m []\n\u001b[0;32m--> 611\u001b[0m \u001b[38;5;28;01mif\u001b[39;00m \u001b[38;5;129;01mnot\u001b[39;00m \u001b[38;5;28;43mall\u001b[39;49m\u001b[43m(\u001b[49m\u001b[43m(\u001b[49m\u001b[38;5;241;43m0\u001b[39;49m\u001b[43m \u001b[49m\u001b[38;5;241;43m<\u001b[39;49m\u001b[38;5;241;43m=\u001b[39;49m\u001b[43m \u001b[49m\u001b[43mp\u001b[49m\u001b[43m \u001b[49m\u001b[38;5;241;43m<\u001b[39;49m\u001b[38;5;241;43m=\u001b[39;49m\u001b[43m \u001b[49m\u001b[38;5;241;43m1\u001b[39;49m\u001b[43m)\u001b[49m\u001b[43m \u001b[49m\u001b[38;5;28;43;01mfor\u001b[39;49;00m\u001b[43m \u001b[49m\u001b[43mp\u001b[49m\u001b[43m \u001b[49m\u001b[38;5;129;43;01min\u001b[39;49;00m\u001b[43m \u001b[49m\u001b[43mpercentiles\u001b[49m\u001b[43m)\u001b[49m:\n\u001b[1;32m    612\u001b[0m     msg \u001b[38;5;241m=\u001b[39m \u001b[38;5;124m\"\u001b[39m\u001b[38;5;124m`percentiles` must all be in the range [0, 1]\u001b[39m\u001b[38;5;124m\"\u001b[39m\n\u001b[1;32m    613\u001b[0m     \u001b[38;5;28;01mraise\u001b[39;00m \u001b[38;5;167;01mValueError\u001b[39;00m(msg)\n",
      "File \u001b[0;32m~/Documents/Ano4/AAS-Aprendizagem_Aplicada_Seguranca/aas-anomaly-detection-iot-jnluis/venv/lib/python3.10/site-packages/polars/_utils/various.py:611\u001b[0m, in \u001b[0;36m<genexpr>\u001b[0;34m(.0)\u001b[0m\n\u001b[1;32m    609\u001b[0m \u001b[38;5;28;01melif\u001b[39;00m percentiles \u001b[38;5;129;01mis\u001b[39;00m \u001b[38;5;28;01mNone\u001b[39;00m:\n\u001b[1;32m    610\u001b[0m     percentiles \u001b[38;5;241m=\u001b[39m []\n\u001b[0;32m--> 611\u001b[0m \u001b[38;5;28;01mif\u001b[39;00m \u001b[38;5;129;01mnot\u001b[39;00m \u001b[38;5;28mall\u001b[39m((\u001b[38;5;241m0\u001b[39m \u001b[38;5;241m<\u001b[39m\u001b[38;5;241m=\u001b[39m p \u001b[38;5;241m<\u001b[39m\u001b[38;5;241m=\u001b[39m \u001b[38;5;241m1\u001b[39m) \u001b[38;5;28;01mfor\u001b[39;00m p \u001b[38;5;129;01min\u001b[39;00m percentiles):\n\u001b[1;32m    612\u001b[0m     msg \u001b[38;5;241m=\u001b[39m \u001b[38;5;124m\"\u001b[39m\u001b[38;5;124m`percentiles` must all be in the range [0, 1]\u001b[39m\u001b[38;5;124m\"\u001b[39m\n\u001b[1;32m    613\u001b[0m     \u001b[38;5;28;01mraise\u001b[39;00m \u001b[38;5;167;01mValueError\u001b[39;00m(msg)\n",
      "\u001b[0;31mTypeError\u001b[0m: '<=' not supported between instances of 'int' and 'str'"
     ]
    }
   ],
   "source": [
    "x = df.describe(['frame.number', 'frame.time', 'eth.src','ip.src','tcp.srcport','normality'])\n",
    "y= df(['normality'])"
   ]
  }
 ],
 "metadata": {
  "kernelspec": {
   "display_name": "venv",
   "language": "python",
   "name": "python3"
  },
  "language_info": {
   "codemirror_mode": {
    "name": "ipython",
    "version": 3
   },
   "file_extension": ".py",
   "mimetype": "text/x-python",
   "name": "python",
   "nbconvert_exporter": "python",
   "pygments_lexer": "ipython3",
   "version": "3.10.12"
  }
 },
 "nbformat": 4,
 "nbformat_minor": 2
}
